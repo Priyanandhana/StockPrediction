{
 "cells": [
  {
   "cell_type": "code",
   "execution_count": 1,
   "id": "f2bd87b4",
   "metadata": {},
   "outputs": [],
   "source": [
    "import pandas as pd\n",
    "import numpy as np\n",
    "from sklearn.model_selection import train_test_split\n",
    "from sklearn.preprocessing import LabelEncoder, OneHotEncoder\n",
    "from sklearn.linear_model import LinearRegression\n",
    "from sklearn.metrics import mean_squared_error, r2_score\n",
    "import seaborn as sns\n",
    "import matplotlib.pyplot as plt"
   ]
  },
  {
   "cell_type": "code",
   "execution_count": 2,
   "id": "ee318dd7",
   "metadata": {},
   "outputs": [
    {
     "name": "stdout",
     "output_type": "stream",
     "text": [
      "     Age knowledge on stocks invest in stocks? considering investment   \\\n",
      "0  18-25                 yes             never                     yes   \n",
      "1  18-25            not sure             never                     yes   \n",
      "2  18-25                 yes            rarely                      no   \n",
      "3  18-25                 yes            rarely                      no   \n",
      "4  18-25                  no             never                      no   \n",
      "\n",
      "  regularly save money    taking financial risks scale using bonus at work  \\\n",
      "0                    no                              4       save in banks   \n",
      "1                   yes                              3       save in banks   \n",
      "2                   yes                              3       save in banks   \n",
      "3                    no                              3    invest in stocks   \n",
      "4                   yes                              3   spend on vacation   \n",
      "\n",
      "   investment type concerns about stocks  \n",
      "0  savings account     lack of knowledge  \n",
      "1  savings account     lack of knowledge  \n",
      "2  savings account     lack of knowledge  \n",
      "3     mutual funds                others  \n",
      "4      real estate     lack of knowledge  \n",
      "Age                              0\n",
      "knowledge on stocks              0\n",
      "invest in stocks?                0\n",
      "considering investment           0\n",
      "regularly save money             0\n",
      " taking financial risks scale    0\n",
      "using bonus at work              0\n",
      "investment type                  0\n",
      "concerns about stocks            0\n",
      "dtype: int64\n"
     ]
    }
   ],
   "source": [
    "# Load the dataset\n",
    "df = pd.read_csv('stocks.csv')\n",
    "\n",
    "# Display the first few rows\n",
    "print(df.head())\n",
    "\n",
    "# Check for any missing values\n",
    "print(df.isnull().sum())\n"
   ]
  },
  {
   "cell_type": "code",
   "execution_count": 19,
   "id": "2177ff5b",
   "metadata": {},
   "outputs": [
    {
     "name": "stdout",
     "output_type": "stream",
     "text": [
      "<class 'pandas.core.frame.DataFrame'>\n",
      "RangeIndex: 110 entries, 0 to 109\n",
      "Data columns (total 9 columns):\n",
      " #   Column                         Non-Null Count  Dtype \n",
      "---  ------                         --------------  ----- \n",
      " 0   Age                            110 non-null    object\n",
      " 1   knowledge on stocks            110 non-null    int32 \n",
      " 2   invest in stocks?              110 non-null    int32 \n",
      " 3   considering investment         110 non-null    int32 \n",
      " 4   regularly save money           110 non-null    int32 \n",
      " 5    taking financial risks scale  110 non-null    int32 \n",
      " 6   using bonus at work            110 non-null    int32 \n",
      " 7   investment type                110 non-null    int32 \n",
      " 8   concerns about stocks          110 non-null    int32 \n",
      "dtypes: int32(8), object(1)\n",
      "memory usage: 4.4+ KB\n"
     ]
    }
   ],
   "source": [
    "df.info()"
   ]
  },
  {
   "cell_type": "code",
   "execution_count": 3,
   "id": "1fe7eab0",
   "metadata": {},
   "outputs": [
    {
     "data": {
      "text/plain": [
       "Index(['Age', 'knowledge on stocks', 'invest in stocks?',\n",
       "       'considering investment ', 'regularly save money ',\n",
       "       ' taking financial risks scale', 'using bonus at work',\n",
       "       'investment type', 'concerns about stocks'],\n",
       "      dtype='object')"
      ]
     },
     "execution_count": 3,
     "metadata": {},
     "output_type": "execute_result"
    }
   ],
   "source": [
    "df.columns"
   ]
  },
  {
   "cell_type": "code",
   "execution_count": 4,
   "id": "c8479df3",
   "metadata": {},
   "outputs": [],
   "source": [
    "# Label Encoding for categorical columns\n",
    "label_encoders = {}\n",
    "for column in df.columns[1:]:  \n",
    "    le = LabelEncoder()\n",
    "    df[column] = le.fit_transform(df[column].astype(str))\n",
    "    label_encoders[column] = le\n"
   ]
  },
  {
   "cell_type": "code",
   "execution_count": 8,
   "id": "897a432f",
   "metadata": {},
   "outputs": [],
   "source": [
    "# Define the features (X) and target variable (y)\n",
    "X = df.drop(columns=['invest in stocks?','Age'])\n",
    "y = df['invest in stocks?']"
   ]
  },
  {
   "cell_type": "code",
   "execution_count": 9,
   "id": "6877fc36",
   "metadata": {},
   "outputs": [],
   "source": [
    "# Split the data into training and testing sets\n",
    "X_train, X_test, y_train, y_test = train_test_split(X, y, test_size=0.2, random_state=42)\n"
   ]
  },
  {
   "cell_type": "code",
   "execution_count": 10,
   "id": "c638a45d",
   "metadata": {},
   "outputs": [
    {
     "name": "stdout",
     "output_type": "stream",
     "text": [
      "Mean Squared Error: 0.718660118744199\n",
      "R-squared: -0.1293230437408841\n"
     ]
    }
   ],
   "source": [
    "# Initialize the Linear Regression model\n",
    "linear_regressor = LinearRegression()\n",
    "\n",
    "# Fit the model on the training data\n",
    "linear_regressor.fit(X_train, y_train)\n",
    "\n",
    "# Make predictions on the test set\n",
    "y_pred = linear_regressor.predict(X_test)\n",
    "\n",
    "# Evaluate the model\n",
    "mse = mean_squared_error(y_test, y_pred)\n",
    "r2 = r2_score(y_test, y_pred)\n",
    "\n",
    "print(f\"Mean Squared Error: {mse}\")\n",
    "print(f\"R-squared: {r2}\")\n"
   ]
  },
  {
   "cell_type": "code",
   "execution_count": 11,
   "id": "86c73307",
   "metadata": {},
   "outputs": [
    {
     "data": {
      "image/png": "[encoded data removed]",
      "text/plain": [
       "<Figure size 640x480 with 1 Axes>"
      ]
     },
     "metadata": {},
     "output_type": "display_data"
    }
   ],
   "source": [
    "# Scatter plot for linear regression predictions\n",
    "plt.scatter(y_test, y_pred)\n",
    "plt.xlabel('Actual values')\n",
    "plt.ylabel('Predicted values')\n",
    "plt.title('Linear Regression Predictions vs Actual')\n",
    "plt.show()\n"
   ]
  },
  {
   "cell_type": "code",
   "execution_count": 18,
   "id": "88eb8d55",
   "metadata": {},
   "outputs": [
    {
     "name": "stdout",
     "output_type": "stream",
     "text": [
      "Logistic Regression Accuracy: 0.5909090909090909\n",
      "Confusion Matrix:\n",
      " [[ 1  0  1  0]\n",
      " [ 0 12  4  1]\n",
      " [ 0  2  0  0]\n",
      " [ 0  1  0  0]]\n",
      "Classification Report:\n",
      "               precision    recall  f1-score   support\n",
      "\n",
      "           0       1.00      0.50      0.67         2\n",
      "           2       0.80      0.71      0.75        17\n",
      "           3       0.00      0.00      0.00         2\n",
      "           4       0.00      0.00      0.00         1\n",
      "\n",
      "    accuracy                           0.59        22\n",
      "   macro avg       0.45      0.30      0.35        22\n",
      "weighted avg       0.71      0.59      0.64        22\n",
      "\n"
     ]
    },
    {
     "name": "stderr",
     "output_type": "stream",
     "text": [
      "C:\\Users\\sspri\\anaconda3\\Lib\\site-packages\\sklearn\\linear_model\\_logistic.py:458: ConvergenceWarning: lbfgs failed to converge (status=1):\n",
      "STOP: TOTAL NO. of ITERATIONS REACHED LIMIT.\n",
      "\n",
      "Increase the number of iterations (max_iter) or scale the data as shown in:\n",
      "    https://scikit-learn.org/stable/modules/preprocessing.html\n",
      "Please also refer to the documentation for alternative solver options:\n",
      "    https://scikit-learn.org/stable/modules/linear_model.html#logistic-regression\n",
      "  n_iter_i = _check_optimize_result(\n"
     ]
    }
   ],
   "source": [
    "from sklearn.linear_model import LogisticRegression\n",
    "from sklearn.metrics import accuracy_score, confusion_matrix, classification_report\n",
    "\n",
    "# Initialize the Logistic Regression model\n",
    "log_reg_model = LogisticRegression(random_state=42)\n",
    "\n",
    "# Fit the model to the training data\n",
    "log_reg_model.fit(X_train, y_train)\n",
    "\n",
    "# Predict the labels for the test data\n",
    "y_pred_log_reg = log_reg_model.predict(X_test)\n",
    "\n",
    "# Evaluate the model\n",
    "log_reg_accuracy = accuracy_score(y_test, y_pred_log_reg)\n",
    "log_reg_confusion = confusion_matrix(y_test, y_pred_log_reg)\n",
    "log_reg_classification_report = classification_report(y_test, y_pred_log_reg)\n",
    "\n",
    "print(\"Logistic Regression Accuracy:\", log_reg_accuracy)\n",
    "print(\"Confusion Matrix:\\n\", log_reg_confusion)\n",
    "print(\"Classification Report:\\n\", log_reg_classification_report)\n"
   ]
  },
  {
   "cell_type": "code",
   "execution_count": 17,
   "id": "9b2e1caf",
   "metadata": {},
   "outputs": [
    {
     "name": "stdout",
     "output_type": "stream",
     "text": [
      "Random Forest Mean Squared Error: 0.4200321641414142\n",
      "Random Forest R-squared: 0.33994945634920626\n"
     ]
    }
   ],
   "source": [
    "from sklearn.ensemble import RandomForestRegressor\n",
    "from sklearn.metrics import mean_squared_error, r2_score\n",
    "\n",
    "# Initialize the Random Forest Regressor\n",
    "rf_model = RandomForestRegressor(n_estimators=100, random_state=42)\n",
    "\n",
    "# Fit the model to your training data\n",
    "rf_model.fit(X_train, y_train)\n",
    "\n",
    "# Predict using the trained Random Forest model\n",
    "y_pred_rf = rf_model.predict(X_test)\n",
    "\n",
    "# Evaluate the model\n",
    "rf_mse = mean_squared_error(y_test, y_pred_rf)\n",
    "rf_r2 = r2_score(y_test, y_pred_rf)\n",
    "\n",
    "print(\"Random Forest Mean Squared Error:\", rf_mse)\n",
    "print(\"Random Forest R-squared:\", rf_r2)\n"
   ]
  },
  {
   "cell_type": "code",
   "execution_count": 12,
   "id": "8095d613",
   "metadata": {},
   "outputs": [
    {
     "data": {
      "image/png": "[encoded data removed]",
      "text/plain": [
       "<Figure size 640x480 with 1 Axes>"
      ]
     },
     "metadata": {},
     "output_type": "display_data"
    }
   ],
   "source": [
    "from sklearn.ensemble import RandomForestRegressor\n",
    "import matplotlib.pyplot as plt\n",
    "import seaborn as sns\n",
    "\n",
    "# Initialize the Random Forest model\n",
    "rf_regressor = RandomForestRegressor(n_estimators=100, random_state=42)\n",
    "\n",
    "# Fit the model on the training data (make sure X_train and y_train are defined)\n",
    "rf_regressor.fit(X_train, y_train)\n",
    "\n",
    "# Check feature importance\n",
    "feature_importances = rf_regressor.feature_importances_\n",
    "features = X.columns\n",
    "\n",
    "# Create a bar plot for feature importance\n",
    "sns.barplot(x=feature_importances, y=features)\n",
    "plt.title('Feature Importance from Random Forest')\n",
    "plt.show()"
   ]
  },
  {
   "cell_type": "code",
   "execution_count": 13,
   "id": "d11e87fa",
   "metadata": {},
   "outputs": [
    {
     "name": "stdout",
     "output_type": "stream",
     "text": [
      "Naive Bayes Accuracy: 0.3181818181818182\n"
     ]
    }
   ],
   "source": [
    "from sklearn.naive_bayes import GaussianNB\n",
    "from sklearn.metrics import accuracy_score\n",
    "\n",
    "# Convert the target variable into categories (assuming it can be classified)\n",
    "y_class = pd.cut(y, bins=3, labels=['Low', 'Medium', 'High'])  # Adjust bins as needed\n",
    "\n",
    "# Initialize the Naive Bayes classifier\n",
    "nb_classifier = GaussianNB()\n",
    "\n",
    "# Fit the model\n",
    "nb_classifier.fit(X_train, y_class[:len(X_train)])\n",
    "\n",
    "# Make predictions\n",
    "y_nb_pred = nb_classifier.predict(X_test)\n",
    "\n",
    "# Evaluate the model\n",
    "accuracy_nb = accuracy_score(y_class[len(X_train):], y_nb_pred)\n",
    "print(f\"Naive Bayes Accuracy: {accuracy_nb}\")\n"
   ]
  },
  {
   "cell_type": "code",
   "execution_count": 14,
   "id": "d21b36d1",
   "metadata": {},
   "outputs": [
    {
     "name": "stdout",
     "output_type": "stream",
     "text": [
      "k-NN Mean Squared Error: 0.5527272727272727\n",
      "k-NN R-squared: 0.13142857142857145\n"
     ]
    }
   ],
   "source": [
    "from sklearn.neighbors import KNeighborsRegressor\n",
    "\n",
    "# Initialize the k-NN model\n",
    "knn_regressor = KNeighborsRegressor(n_neighbors=5)\n",
    "\n",
    "# Fit the model\n",
    "knn_regressor.fit(X_train, y_train)\n",
    "\n",
    "# Make predictions\n",
    "y_knn_pred = knn_regressor.predict(X_test)\n",
    "\n",
    "# Evaluate the model\n",
    "mse_knn = mean_squared_error(y_test, y_knn_pred)\n",
    "r2_knn = r2_score(y_test, y_knn_pred)\n",
    "\n",
    "print(f\"k-NN Mean Squared Error: {mse_knn}\")\n",
    "print(f\"k-NN R-squared: {r2_knn}\")\n"
   ]
  },
  {
   "cell_type": "code",
   "execution_count": 15,
   "id": "d2697ce4",
   "metadata": {},
   "outputs": [
    {
     "name": "stdout",
     "output_type": "stream",
     "text": [
      "SVM Mean Squared Error: 0.8155402991145064\n",
      "SVM R-squared: -0.2815633271799387\n"
     ]
    }
   ],
   "source": [
    "from sklearn.svm import SVR\n",
    "\n",
    "# Initialize the SVM model\n",
    "svm_regressor = SVR(kernel='linear')  # You can try 'rbf', 'poly' kernels as well\n",
    "\n",
    "# Fit the model\n",
    "svm_regressor.fit(X_train, y_train)\n",
    "\n",
    "# Make predictions\n",
    "y_svm_pred = svm_regressor.predict(X_test)\n",
    "\n",
    "# Evaluate the model\n",
    "mse_svm = mean_squared_error(y_test, y_svm_pred)\n",
    "r2_svm = r2_score(y_test, y_svm_pred)\n",
    "\n",
    "print(f\"SVM Mean Squared Error: {mse_svm}\")\n",
    "print(f\"SVM R-squared: {r2_svm}\")\n"
   ]
  },
  {
   "cell_type": "code",
   "execution_count": 16,
   "id": "585f0a71",
   "metadata": {},
   "outputs": [
    {
     "name": "stdout",
     "output_type": "stream",
     "text": [
      "Decision Tree Mean Squared Error: 1.1363636363636365\n",
      "Decision Tree R-squared: -0.7857142857142858\n"
     ]
    }
   ],
   "source": [
    "from sklearn.tree import DecisionTreeRegressor\n",
    "\n",
    "# Initialize the Decision Tree model\n",
    "tree_regressor = DecisionTreeRegressor(random_state=42)\n",
    "\n",
    "# Fit the model\n",
    "tree_regressor.fit(X_train, y_train)\n",
    "\n",
    "# Make predictions\n",
    "y_tree_pred = tree_regressor.predict(X_test)\n",
    "\n",
    "# Evaluate the model\n",
    "mse_tree = mean_squared_error(y_test, y_tree_pred)\n",
    "r2_tree = r2_score(y_test, y_tree_pred)\n",
    "\n",
    "print(f\"Decision Tree Mean Squared Error: {mse_tree}\")\n",
    "print(f\"Decision Tree R-squared: {r2_tree}\")\n"
   ]
  },
  {
   "cell_type": "code",
   "execution_count": null,
   "id": "5f050df8",
   "metadata": {},
   "outputs": [],
   "source": []
  },
  {
   "cell_type": "code",
   "execution_count": null,
   "id": "1c406dec",
   "metadata": {},
   "outputs": [],
   "source": []
  }
 ],
 "metadata": {
  "kernelspec": {
   "display_name": "Python 3 (ipykernel)",
   "language": "python",
   "name": "python3"
  },
  "language_info": {
   "codemirror_mode": {
    "name": "ipython",
    "version": 3
   },
   "file_extension": ".py",
   "mimetype": "text/x-python",
   "name": "python",
   "nbconvert_exporter": "python",
   "pygments_lexer": "ipython3",
   "version": "3.11.3"
  }
 },
 "nbformat": 4,
 "nbformat_minor": 5
}
